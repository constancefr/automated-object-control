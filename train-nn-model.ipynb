{
 "cells": [
  {
   "cell_type": "code",
   "execution_count": 74,
   "id": "10008f13-46ec-4843-a450-a7cbda56c5db",
   "metadata": {},
   "outputs": [],
   "source": [
    "import pandas as pd\n",
    "import numpy as np\n",
    "import os\n",
    "from sklearn.model_selection import train_test_split\n",
    "from sklearn.preprocessing import StandardScaler\n",
    "import tensorflow as tf\n",
    "from tensorflow.keras.models import Sequential\n",
    "from tensorflow.keras.layers import Dense, Input\n",
    "from sklearn.metrics import precision_score, recall_score, f1_score, roc_curve, roc_auc_score\n",
    "from sklearn.preprocessing import label_binarize\n",
    "import matplotlib.pyplot as plt\n",
    "import datetime\n",
    "import joblib\n",
    "import time"
   ]
  },
  {
   "cell_type": "code",
   "execution_count": 75,
   "id": "c4ba9890-57ae-4966-b178-68c41207a8f0",
   "metadata": {},
   "outputs": [
    {
     "name": "stdout",
     "output_type": "stream",
     "text": [
      "Load dateset successful\n",
      "\n",
      "Showing first 5 lines:\n",
      "   run_id  time_step    d_front     d_back   v_front    v_back  ego_a\n",
      "0       0          0  45.849370  22.924685  0.000000  0.000000    0.0\n",
      "1       0          1  45.828807  22.945248 -0.411258  0.411258    3.0\n",
      "2       0          2  45.769777  23.004278 -0.769341  0.769341    3.0\n",
      "3       0          3  45.667066  23.106988 -1.284869  1.284869    3.0\n",
      "4       0          4  45.525153  23.248901 -1.553389  1.553389    3.0\n"
     ]
    }
   ],
   "source": [
    "file_path = 'car-manual-dataset/simulation-dataset.csv'\n",
    "df = pd.read_csv(file_path)\n",
    "#load a mannually generated dataset\n",
    "\n",
    "print(\"Load dateset successful\")\n",
    "#df.info()\n",
    "print(\"\\nShowing first 5 lines:\")\n",
    "print(df.head())"
   ]
  },
  {
   "cell_type": "code",
   "execution_count": 76,
   "id": "dd1cf35f-dd30-4b4f-a7e5-03beb5de1446",
   "metadata": {},
   "outputs": [
    {
     "name": "stdout",
     "output_type": "stream",
     "text": [
      "action\n",
      "1    9362\n",
      "2     412\n",
      "0     236\n",
      "Name: count, dtype: int64\n",
      "TrainSet scale: 8008\n",
      "TestSet scale: 2002\n"
     ]
    }
   ],
   "source": [
    "def classify_acceleration(a, threshold=0.05):\n",
    "    if a > threshold:\n",
    "        return 2  # speed up\n",
    "    elif a < -threshold:\n",
    "        return 0  # slow down\n",
    "    else:\n",
    "        return 1  # stay\n",
    "\n",
    "# transfer the acceleration from -1.5, 0, 1.5 to class 0,1,2\n",
    "df['action'] = df['ego_a'].apply(classify_acceleration)\n",
    "print(df['action'].value_counts())\n",
    "\n",
    "#define model input and output\n",
    "FEATURE_COLUMNS = ['d_front', 'd_back', 'v_front', 'v_back']\n",
    "LABEL_COLUMN = 'action'\n",
    "\n",
    "X = df[FEATURE_COLUMNS].values\n",
    "y = df[LABEL_COLUMN].values\n",
    "\n",
    "X_train, X_test, y_train, y_test = train_test_split(X, y, test_size=0.2, random_state=24,stratify=y)\n",
    "\n",
    "scaler = StandardScaler()\n",
    "X_train_scaled = scaler.fit_transform(X_train)\n",
    "X_test_scaled = scaler.transform(X_test)\n",
    "\n",
    "train_dataset = tf.data.Dataset.from_tensor_slices((X_train_scaled, y_train))\n",
    "test_dataset = tf.data.Dataset.from_tensor_slices((X_test_scaled, y_test))\n",
    "\n",
    "train_dataset = train_dataset.shuffle(buffer_size=1024).batch(32)\n",
    "test_dataset = test_dataset.batch(32)\n",
    "                                \n",
    "\n",
    "print(f\"TrainSet scale: {len(X_train_scaled)}\")\n",
    "print(f\"TestSet scale: {len(X_test_scaled)}\")"
   ]
  },
  {
   "cell_type": "code",
   "execution_count": 89,
   "id": "6ef9a2c6-58d2-4110-bc81-4fb4d22c075c",
   "metadata": {},
   "outputs": [],
   "source": [
    "# Simply using Katya's code, with output layer changed\n",
    "def get_model(input_size, num_classes):\n",
    "\n",
    "    # initializer = tf.keras.initializers.GlorotUniform(seed=42)\n",
    "    \n",
    "    # model = Sequential([\n",
    "    #         Input(shape=(input_size,), name='input_features'),\n",
    "    #         Dense(32, activation='relu', kernel_initializer=initializer, name='dense_1'),\n",
    "    #         Dense(num_classes, activation='softmax', kernel_initializer=initializer, name='output_layer')\n",
    "    #     ])\n",
    "    initializer = tf.keras.initializers.GlorotUniform(seed=42)\n",
    "    model = tf.keras.Sequential([\n",
    "            tf.keras.layers.Input(shape=(input_size,), name='input_features'),\n",
    "            tf.keras.layers.Dense(64, activation='relu', kernel_initializer=initializer, name='dense_1'),\n",
    "            tf.keras.layers.Dense(num_classes, activation='linear', kernel_initializer=initializer, name='output_layer')\n",
    "        ])\n",
    "    print(model.summary())\n",
    "    \n",
    "    return model"
   ]
  },
  {
   "cell_type": "code",
   "execution_count": 90,
   "id": "fc352021-b3e4-42dd-ba8a-7ae1b418deaa",
   "metadata": {},
   "outputs": [
    {
     "data": {
      "text/html": [
       "<pre style=\"white-space:pre;overflow-x:auto;line-height:normal;font-family:Menlo,'DejaVu Sans Mono',consolas,'Courier New',monospace\"><span style=\"font-weight: bold\">Model: \"sequential_25\"</span>\n",
       "</pre>\n"
      ],
      "text/plain": [
       "\u001b[1mModel: \"sequential_25\"\u001b[0m\n"
      ]
     },
     "metadata": {},
     "output_type": "display_data"
    },
    {
     "data": {
      "text/html": [
       "<pre style=\"white-space:pre;overflow-x:auto;line-height:normal;font-family:Menlo,'DejaVu Sans Mono',consolas,'Courier New',monospace\">┏━━━━━━━━━━━━━━━━━━━━━━━━━━━━━━━━━┳━━━━━━━━━━━━━━━━━━━━━━━━┳━━━━━━━━━━━━━━━┓\n",
       "┃<span style=\"font-weight: bold\"> Layer (type)                    </span>┃<span style=\"font-weight: bold\"> Output Shape           </span>┃<span style=\"font-weight: bold\">       Param # </span>┃\n",
       "┡━━━━━━━━━━━━━━━━━━━━━━━━━━━━━━━━━╇━━━━━━━━━━━━━━━━━━━━━━━━╇━━━━━━━━━━━━━━━┩\n",
       "│ dense_1 (<span style=\"color: #0087ff; text-decoration-color: #0087ff\">Dense</span>)                 │ (<span style=\"color: #00d7ff; text-decoration-color: #00d7ff\">None</span>, <span style=\"color: #00af00; text-decoration-color: #00af00\">64</span>)             │           <span style=\"color: #00af00; text-decoration-color: #00af00\">320</span> │\n",
       "├─────────────────────────────────┼────────────────────────┼───────────────┤\n",
       "│ output_layer (<span style=\"color: #0087ff; text-decoration-color: #0087ff\">Dense</span>)            │ (<span style=\"color: #00d7ff; text-decoration-color: #00d7ff\">None</span>, <span style=\"color: #00af00; text-decoration-color: #00af00\">3</span>)              │           <span style=\"color: #00af00; text-decoration-color: #00af00\">195</span> │\n",
       "└─────────────────────────────────┴────────────────────────┴───────────────┘\n",
       "</pre>\n"
      ],
      "text/plain": [
       "┏━━━━━━━━━━━━━━━━━━━━━━━━━━━━━━━━━┳━━━━━━━━━━━━━━━━━━━━━━━━┳━━━━━━━━━━━━━━━┓\n",
       "┃\u001b[1m \u001b[0m\u001b[1mLayer (type)                   \u001b[0m\u001b[1m \u001b[0m┃\u001b[1m \u001b[0m\u001b[1mOutput Shape          \u001b[0m\u001b[1m \u001b[0m┃\u001b[1m \u001b[0m\u001b[1m      Param #\u001b[0m\u001b[1m \u001b[0m┃\n",
       "┡━━━━━━━━━━━━━━━━━━━━━━━━━━━━━━━━━╇━━━━━━━━━━━━━━━━━━━━━━━━╇━━━━━━━━━━━━━━━┩\n",
       "│ dense_1 (\u001b[38;5;33mDense\u001b[0m)                 │ (\u001b[38;5;45mNone\u001b[0m, \u001b[38;5;34m64\u001b[0m)             │           \u001b[38;5;34m320\u001b[0m │\n",
       "├─────────────────────────────────┼────────────────────────┼───────────────┤\n",
       "│ output_layer (\u001b[38;5;33mDense\u001b[0m)            │ (\u001b[38;5;45mNone\u001b[0m, \u001b[38;5;34m3\u001b[0m)              │           \u001b[38;5;34m195\u001b[0m │\n",
       "└─────────────────────────────────┴────────────────────────┴───────────────┘\n"
      ]
     },
     "metadata": {},
     "output_type": "display_data"
    },
    {
     "data": {
      "text/html": [
       "<pre style=\"white-space:pre;overflow-x:auto;line-height:normal;font-family:Menlo,'DejaVu Sans Mono',consolas,'Courier New',monospace\"><span style=\"font-weight: bold\"> Total params: </span><span style=\"color: #00af00; text-decoration-color: #00af00\">515</span> (2.01 KB)\n",
       "</pre>\n"
      ],
      "text/plain": [
       "\u001b[1m Total params: \u001b[0m\u001b[38;5;34m515\u001b[0m (2.01 KB)\n"
      ]
     },
     "metadata": {},
     "output_type": "display_data"
    },
    {
     "data": {
      "text/html": [
       "<pre style=\"white-space:pre;overflow-x:auto;line-height:normal;font-family:Menlo,'DejaVu Sans Mono',consolas,'Courier New',monospace\"><span style=\"font-weight: bold\"> Trainable params: </span><span style=\"color: #00af00; text-decoration-color: #00af00\">515</span> (2.01 KB)\n",
       "</pre>\n"
      ],
      "text/plain": [
       "\u001b[1m Trainable params: \u001b[0m\u001b[38;5;34m515\u001b[0m (2.01 KB)\n"
      ]
     },
     "metadata": {},
     "output_type": "display_data"
    },
    {
     "data": {
      "text/html": [
       "<pre style=\"white-space:pre;overflow-x:auto;line-height:normal;font-family:Menlo,'DejaVu Sans Mono',consolas,'Courier New',monospace\"><span style=\"font-weight: bold\"> Non-trainable params: </span><span style=\"color: #00af00; text-decoration-color: #00af00\">0</span> (0.00 B)\n",
       "</pre>\n"
      ],
      "text/plain": [
       "\u001b[1m Non-trainable params: \u001b[0m\u001b[38;5;34m0\u001b[0m (0.00 B)\n"
      ]
     },
     "metadata": {},
     "output_type": "display_data"
    },
    {
     "name": "stdout",
     "output_type": "stream",
     "text": [
      "None\n",
      "Epoch 1/10\n",
      "\u001b[1m251/251\u001b[0m \u001b[32m━━━━━━━━━━━━━━━━━━━━\u001b[0m\u001b[37m\u001b[0m \u001b[1m1s\u001b[0m 603us/step - loss: 0.4393 - sparse_categorical_accuracy: 0.9075 - val_loss: 0.2619 - val_sparse_categorical_accuracy: 0.9351\n",
      "Epoch 2/10\n",
      "\u001b[1m251/251\u001b[0m \u001b[32m━━━━━━━━━━━━━━━━━━━━\u001b[0m\u001b[37m\u001b[0m \u001b[1m0s\u001b[0m 350us/step - loss: 0.2370 - sparse_categorical_accuracy: 0.9358 - val_loss: 0.2061 - val_sparse_categorical_accuracy: 0.9376\n",
      "Epoch 3/10\n",
      "\u001b[1m251/251\u001b[0m \u001b[32m━━━━━━━━━━━━━━━━━━━━\u001b[0m\u001b[37m\u001b[0m \u001b[1m0s\u001b[0m 349us/step - loss: 0.2004 - sparse_categorical_accuracy: 0.9401 - val_loss: 0.1799 - val_sparse_categorical_accuracy: 0.9441\n",
      "Epoch 4/10\n",
      "\u001b[1m251/251\u001b[0m \u001b[32m━━━━━━━━━━━━━━━━━━━━\u001b[0m\u001b[37m\u001b[0m \u001b[1m0s\u001b[0m 345us/step - loss: 0.1807 - sparse_categorical_accuracy: 0.9427 - val_loss: 0.1648 - val_sparse_categorical_accuracy: 0.9481\n",
      "Epoch 5/10\n",
      "\u001b[1m251/251\u001b[0m \u001b[32m━━━━━━━━━━━━━━━━━━━━\u001b[0m\u001b[37m\u001b[0m \u001b[1m0s\u001b[0m 346us/step - loss: 0.1686 - sparse_categorical_accuracy: 0.9442 - val_loss: 0.1552 - val_sparse_categorical_accuracy: 0.9525\n",
      "Epoch 6/10\n",
      "\u001b[1m251/251\u001b[0m \u001b[32m━━━━━━━━━━━━━━━━━━━━\u001b[0m\u001b[37m\u001b[0m \u001b[1m0s\u001b[0m 348us/step - loss: 0.1607 - sparse_categorical_accuracy: 0.9454 - val_loss: 0.1522 - val_sparse_categorical_accuracy: 0.9520\n",
      "Epoch 7/10\n",
      "\u001b[1m251/251\u001b[0m \u001b[32m━━━━━━━━━━━━━━━━━━━━\u001b[0m\u001b[37m\u001b[0m \u001b[1m0s\u001b[0m 348us/step - loss: 0.1560 - sparse_categorical_accuracy: 0.9461 - val_loss: 0.1455 - val_sparse_categorical_accuracy: 0.9535\n",
      "Epoch 8/10\n",
      "\u001b[1m251/251\u001b[0m \u001b[32m━━━━━━━━━━━━━━━━━━━━\u001b[0m\u001b[37m\u001b[0m \u001b[1m0s\u001b[0m 350us/step - loss: 0.1521 - sparse_categorical_accuracy: 0.9466 - val_loss: 0.1425 - val_sparse_categorical_accuracy: 0.9535\n",
      "Epoch 9/10\n",
      "\u001b[1m251/251\u001b[0m \u001b[32m━━━━━━━━━━━━━━━━━━━━\u001b[0m\u001b[37m\u001b[0m \u001b[1m0s\u001b[0m 345us/step - loss: 0.1494 - sparse_categorical_accuracy: 0.9476 - val_loss: 0.1435 - val_sparse_categorical_accuracy: 0.9545\n",
      "Epoch 10/10\n",
      "\u001b[1m251/251\u001b[0m \u001b[32m━━━━━━━━━━━━━━━━━━━━\u001b[0m\u001b[37m\u001b[0m \u001b[1m0s\u001b[0m 345us/step - loss: 0.1465 - sparse_categorical_accuracy: 0.9477 - val_loss: 0.1401 - val_sparse_categorical_accuracy: 0.9545\n"
     ]
    },
    {
     "data": {
      "text/plain": [
       "<keras.src.callbacks.history.History at 0x168614b90>"
      ]
     },
     "execution_count": 90,
     "metadata": {},
     "output_type": "execute_result"
    }
   ],
   "source": [
    "# Train the model\n",
    "num_classes = len(np.unique(y_train))\n",
    "input_size = X_train_scaled.shape[1]\n",
    "# train_dataset = X_train_scaled\n",
    "epochs = 10\n",
    "\n",
    "\n",
    "optimizer = tf.keras.optimizers.Adam()\n",
    "loss_fn = tf.keras.losses.SparseCategoricalCrossentropy(from_logits=True)\n",
    "accuracy_fn = tf.keras.metrics.SparseCategoricalAccuracy()\n",
    "\n",
    "model_base = get_model(input_size, num_classes)\n",
    "model_base.compile(optimizer=optimizer, loss=loss_fn, metrics=[accuracy_fn])\n",
    "model_base.fit(\n",
    "    # X_train_scaled,\n",
    "    # y_train, \n",
    "    train_dataset,\n",
    "    epochs=epochs, \n",
    "    # batch_size = 32,\n",
    "    validation_data=test_dataset\n",
    ")\n"
   ]
  },
  {
   "cell_type": "code",
   "execution_count": 91,
   "id": "46d26299-7700-4c05-b324-6095d1117af1",
   "metadata": {},
   "outputs": [],
   "source": [
    "# Visalization, copied from Katya\n",
    "def print_metrics(model, x, y, c):\n",
    "    # Get predicted probabilities for all classes\n",
    "    y_pred_prob = model.predict(x)\n",
    "\n",
    "    # Get predicted class labels (highest probability class)\n",
    "    y_pred_class = np.argmax(y_pred_prob, axis=1)\n",
    "\n",
    "    # Calculate precision, recall, and F1-score (using macro average)\n",
    "    precision = precision_score(y, y_pred_class, average='macro')\n",
    "    recall = recall_score(y, y_pred_class, average='macro')\n",
    "    f1 = f1_score(y, y_pred_class, average='macro')\n",
    "\n",
    "    # Display the macro/micro/weighted average metrics\n",
    "    print(f'Precision (macro): {precision:.4f}')\n",
    "    print(f'Recall (macro): {recall:.4f}')\n",
    "    print(f'F1-score (macro): {f1:.4f}')\n",
    "\n",
    "    # Binarize the output (needed for multiclass ROC)\n",
    "    # This turns the class labels into a one-vs-rest binary format\n",
    "    y_test_bin = label_binarize(y, classes=np.arange(c))\n",
    "\n",
    "    # Compute ROC curve and AUC for each class\n",
    "    fpr = dict()\n",
    "    tpr = dict()\n",
    "    roc_auc = dict()\n",
    "\n",
    "    for i in range(c):\n",
    "        fpr[i], tpr[i], _ = roc_curve(y_test_bin[:, i], y_pred_prob[:, i])\n",
    "        roc_auc[i] = roc_auc_score(y_test_bin[:, i], y_pred_prob[:, i])\n",
    "    # Plot the ROC curve for each class\n",
    "    plt.figure(figsize=(6, 5))\n",
    "    for i in range(c):\n",
    "        plt.plot(fpr[i], tpr[i], label=f'Class {i} (AUC = {roc_auc[i]:.2f})')\n",
    "\n",
    "    plt.plot([0, 1], [0, 1], 'k--')  # Dashed diagonal line\n",
    "    plt.xlim([0.0, 1.0])\n",
    "    plt.ylim([0.0, 1.0])\n",
    "    plt.xlabel('False Positive Rate')\n",
    "    plt.ylabel('True Positive Rate')\n",
    "    plt.title('Receiver Operating Characteristic (ROC) for Each Class')\n",
    "    plt.legend(loc='lower right')\n",
    "    plt.show()"
   ]
  },
  {
   "cell_type": "code",
   "execution_count": 92,
   "id": "1ae10f91-5b2c-457a-87d7-81663b87271e",
   "metadata": {},
   "outputs": [
    {
     "name": "stdout",
     "output_type": "stream",
     "text": [
      "\u001b[1m63/63\u001b[0m \u001b[32m━━━━━━━━━━━━━━━━━━━━\u001b[0m\u001b[37m\u001b[0m \u001b[1m0s\u001b[0m 466us/step\n",
      "Precision (macro): 0.9549\n",
      "Recall (macro): 0.5145\n",
      "F1-score (macro): 0.5754\n"
     ]
    },
    {
     "data": {
      "image/png": "[encoded data removed]",
      "text/plain": [
       "<Figure size 600x500 with 1 Axes>"
      ]
     },
     "metadata": {},
     "output_type": "display_data"
    }
   ],
   "source": [
    "print_metrics(model_base, X_test_scaled, y_test, num_classes)"
   ]
  },
  {
   "cell_type": "code",
   "execution_count": 93,
   "id": "2a57ff38-42d9-47ea-9250-1c18424dbd1c",
   "metadata": {},
   "outputs": [],
   "source": [
    "# Save the trained model, if you like\n",
    "model_folder = 'nn-models'\n",
    "os.makedirs(model_folder, exist_ok=True)\n",
    "timestamp_str = datetime.datetime.now().strftime(\"%Y%m%d_%H%M%S\")\n",
    "model_filename = f'nn_model_{timestamp_str}.keras'\n",
    "model_path = os.path.join(model_folder, model_filename)\n",
    "scaler_filename = f'scaler_{timestamp_str}.pkl'\n",
    "scaler_path = os.path.join(model_folder,scaler_filename)\n",
    "# joblib.dump(scaler,scaler_path)\n",
    "# model_base.save(model_path)\n",
    "# print(f\"model saved to {model_path}\")\n",
    "\n",
    "\n"
   ]
  },
  {
   "cell_type": "code",
   "execution_count": 94,
   "id": "71850f6e-9c51-4ee7-b6e2-49fa6f0ce1c9",
   "metadata": {},
   "outputs": [],
   "source": [
    "def pgd_attack(model, x, y, epsilon, alpha, num_iter):\n",
    "    \"\"\"Perform PGD attack on a batch of images.\n",
    "    \n",
    "    Args:\n",
    "        model: Trained Keras model.\n",
    "        x: Input images (batch).\n",
    "        y: True labels (batch).\n",
    "        epsilon: Maximum perturbation.\n",
    "        alpha: Step size for each iteration.\n",
    "        num_iter: Number of PGD iterations.\n",
    "\n",
    "    Returns:\n",
    "        Adversarial examples.\n",
    "    \"\"\"\n",
    "    # Make a copy of the input to avoid modifying the original data\n",
    "    x_adv = tf.identity(x)\n",
    "\n",
    "    # Iterate PGD for num_iter steps\n",
    "    for i in range(num_iter):\n",
    "        with tf.GradientTape() as tape:\n",
    "            tape.watch(x_adv)  # Watch x_adv for gradient computation\n",
    "            predictions = model(x_adv)  # Forward pass\n",
    "            loss = tf.keras.losses.sparse_categorical_crossentropy(y, predictions)  # Loss w.r.t. true label\n",
    "\n",
    "        # Compute the gradients of the loss w.r.t. the input\n",
    "        gradients = tape.gradient(loss, x_adv)\n",
    "        \n",
    "        # Perform gradient ascent step in the direction that maximizes the loss\n",
    "        perturbations = tf.sign(gradients)  # Use the sign of the gradients (FGSM-like step)\n",
    "        x_adv = x_adv + alpha * perturbations  # Update the adversarial example\n",
    "        \n",
    "        # Project the adversarial example to ensure it's within epsilon-ball of the original image\n",
    "        x_adv = tf.clip_by_value(x_adv, x - epsilon, x + epsilon)\n",
    "        \n",
    "        # Ensure the adversarial examples are within the valid input range [0, 1]\n",
    "        x_adv = tf.clip_by_value(x_adv, 0.0, 1.0)\n",
    "    \n",
    "    return x_adv\n",
    "\n",
    "def original_vs_adversarial_images(x_og, y_og, x_adv, y_pred):\n",
    "    plt.figure(figsize=(17, 4))\n",
    "\n",
    "    # Counter for how many images to display\n",
    "    display_count = 0\n",
    "\n",
    "    for i in range(len(x_og)):\n",
    "        # Check if the class changes after the attack\n",
    "        if y_og[i] != y_pred[i]:\n",
    "            # Original images (reshape from (28, 28, 1) to (28, 28))\n",
    "            original_image = x_og[i].reshape(28, 28)\n",
    "            \n",
    "            # Adversarial images (reshape from (28, 28, 1) to (28, 28))\n",
    "            adversarial_image = x_adv[i].numpy().reshape(28, 28)\n",
    "\n",
    "            # Plot original images\n",
    "            plt.subplot(2, 10, display_count + 1)\n",
    "            plt.imshow(original_image, cmap='gray')\n",
    "            plt.axis('off')\n",
    "            plt.title(f'Orig: {y_og[i]}')\n",
    "\n",
    "            # Plot adversarial images\n",
    "            plt.subplot(2, 10, display_count + 11)\n",
    "            plt.imshow(adversarial_image, cmap='gray')\n",
    "            plt.axis('off')\n",
    "            plt.title(f'Adv: {y_pred[i]}')\n",
    "\n",
    "            # Increment the display counter\n",
    "            display_count += 1\n",
    "            \n",
    "            # Stop after displaying 10 images\n",
    "            if display_count == 10:\n",
    "                break\n",
    "\n",
    "    plt.tight_layout()\n",
    "    plt.show()"
   ]
  },
  {
   "cell_type": "code",
   "execution_count": 95,
   "id": "d17cb79d-68e0-4eb9-b758-532c69fab586",
   "metadata": {},
   "outputs": [
    {
     "name": "stdout",
     "output_type": "stream",
     "text": [
      "\u001b[1m63/63\u001b[0m \u001b[32m━━━━━━━━━━━━━━━━━━━━\u001b[0m\u001b[37m\u001b[0m \u001b[1m0s\u001b[0m 258us/step\n",
      "Accuracy on adversarial examples: 0.9351\n"
     ]
    }
   ],
   "source": [
    "epsilon = 0.8\n",
    "alpha = 0.3\n",
    "num_iter = 10\n",
    "\n",
    "# Test the PGD attack\n",
    "x_test_sample = X_test_scaled\n",
    "y_test_sample = y_test\n",
    "\n",
    "# Generate adversarial examples\n",
    "x_test_adv = pgd_attack(model_base, x_test_sample, y_test_sample, epsilon=epsilon, alpha=alpha, num_iter=num_iter)\n",
    "\n",
    "# Evaluate the model on the adversarial examples\n",
    "y_pred_adv = np.argmax(model_base.predict(x_test_adv), axis=1)\n",
    "accuracy_adv = np.mean(y_pred_adv == y_test_sample)\n",
    "\n",
    "print(f'Accuracy on adversarial examples: {accuracy_adv:.4f}')\n",
    "# print_metrics(model_base, x_test_adv, y_test_sample, num_classes)"
   ]
  },
  {
   "cell_type": "code",
   "execution_count": 96,
   "id": "62f1f4e5-0d06-483d-ab75-7fe776924f53",
   "metadata": {},
   "outputs": [],
   "source": [
    "def adversarial_training(model, train_dataset, optimizer, loss_fn, epsilon, alpha, num_iter, epochs):\n",
    "    \"\"\"\n",
    "    Performs adversarial training with PGD adversarial examples.\n",
    "    \n",
    "    Args:\n",
    "    model: The model to train.\n",
    "    train_dataset: A TensorFlow dataset for training.\n",
    "    optimizer: The optimizer for model training.\n",
    "    loss_fn: Loss function to use.\n",
    "    epsilon: Maximum perturbation for PGD (epsilon).\n",
    "    alpha: Step size for PGD.\n",
    "    num_iter: Number of PGD iterations for generating adversarial examples.\n",
    "    epochs: Number of training epochs.\n",
    "    \n",
    "    Returns:\n",
    "    model: The trained model.\n",
    "    \"\"\"\n",
    "    for epoch in range(epochs):\n",
    "        start_time = time.time()  # Record start time for the epoch\n",
    "        print(f\"Epoch {epoch + 1}/{epochs}\")\n",
    "\n",
    "        # Accuracy metric for the epoch\n",
    "        train_acc_metric = tf.keras.metrics.SparseCategoricalAccuracy()\n",
    "        \n",
    "        # Training loop over batches\n",
    "        for step, (x_batch, y_batch) in enumerate(train_dataset):\n",
    "            with tf.GradientTape() as tape:\n",
    "                # Generate adversarial examples using PGD\n",
    "                x_adv_batch = pgd_attack(model, x_batch, y_batch, epsilon=epsilon, alpha=alpha, num_iter=num_iter)\n",
    "                \n",
    "                # Combine original and adversarial examples for training\n",
    "                combined_x = tf.concat([x_batch, x_adv_batch], axis=0)\n",
    "                combined_y = tf.concat([y_batch, y_batch], axis=0)\n",
    "                \n",
    "                # Forward pass\n",
    "                logits = model(combined_x, training=True)\n",
    "                \n",
    "                # Compute the loss\n",
    "                loss = loss_fn(combined_y, logits)\n",
    "            \n",
    "            # Backpropagation\n",
    "            gradients = tape.gradient(loss, model.trainable_variables)\n",
    "            optimizer.apply_gradients(zip(gradients, model.trainable_variables))\n",
    "\n",
    "            # Update training accuracy metric\n",
    "            train_acc_metric.update_state(combined_y, logits)\n",
    "\n",
    "        # End of epoch: calculate and print accuracy and epoch time\n",
    "        train_acc = train_acc_metric.result().numpy()\n",
    "\n",
    "        # Evaluate on test dataset (for validation accuracy)\n",
    "        test_acc_metric = tf.keras.metrics.SparseCategoricalAccuracy()\n",
    "        for x_test_batch, y_test_batch in test_dataset:\n",
    "            test_logits = model(x_test_batch, training=False)\n",
    "            test_acc_metric.update_state(y_test_batch, test_logits)\n",
    "        test_acc = test_acc_metric.result().numpy()\n",
    "\n",
    "        print(f\"Train loss: {loss.numpy():.4f} -|- Train acc: {train_acc:.4f} -|- Test acc: {test_acc:.4f} -|- Time: {(time.time() - start_time):.2f}s\")\n",
    "    \n",
    "    return model"
   ]
  },
  {
   "cell_type": "code",
   "execution_count": 97,
   "id": "e4d45646-95ad-4249-a496-9ca7aac8b81a",
   "metadata": {},
   "outputs": [
    {
     "data": {
      "text/html": [
       "<pre style=\"white-space:pre;overflow-x:auto;line-height:normal;font-family:Menlo,'DejaVu Sans Mono',consolas,'Courier New',monospace\"><span style=\"font-weight: bold\">Model: \"sequential_26\"</span>\n",
       "</pre>\n"
      ],
      "text/plain": [
       "\u001b[1mModel: \"sequential_26\"\u001b[0m\n"
      ]
     },
     "metadata": {},
     "output_type": "display_data"
    },
    {
     "data": {
      "text/html": [
       "<pre style=\"white-space:pre;overflow-x:auto;line-height:normal;font-family:Menlo,'DejaVu Sans Mono',consolas,'Courier New',monospace\">┏━━━━━━━━━━━━━━━━━━━━━━━━━━━━━━━━━┳━━━━━━━━━━━━━━━━━━━━━━━━┳━━━━━━━━━━━━━━━┓\n",
       "┃<span style=\"font-weight: bold\"> Layer (type)                    </span>┃<span style=\"font-weight: bold\"> Output Shape           </span>┃<span style=\"font-weight: bold\">       Param # </span>┃\n",
       "┡━━━━━━━━━━━━━━━━━━━━━━━━━━━━━━━━━╇━━━━━━━━━━━━━━━━━━━━━━━━╇━━━━━━━━━━━━━━━┩\n",
       "│ dense_1 (<span style=\"color: #0087ff; text-decoration-color: #0087ff\">Dense</span>)                 │ (<span style=\"color: #00d7ff; text-decoration-color: #00d7ff\">None</span>, <span style=\"color: #00af00; text-decoration-color: #00af00\">64</span>)             │           <span style=\"color: #00af00; text-decoration-color: #00af00\">320</span> │\n",
       "├─────────────────────────────────┼────────────────────────┼───────────────┤\n",
       "│ output_layer (<span style=\"color: #0087ff; text-decoration-color: #0087ff\">Dense</span>)            │ (<span style=\"color: #00d7ff; text-decoration-color: #00d7ff\">None</span>, <span style=\"color: #00af00; text-decoration-color: #00af00\">3</span>)              │           <span style=\"color: #00af00; text-decoration-color: #00af00\">195</span> │\n",
       "└─────────────────────────────────┴────────────────────────┴───────────────┘\n",
       "</pre>\n"
      ],
      "text/plain": [
       "┏━━━━━━━━━━━━━━━━━━━━━━━━━━━━━━━━━┳━━━━━━━━━━━━━━━━━━━━━━━━┳━━━━━━━━━━━━━━━┓\n",
       "┃\u001b[1m \u001b[0m\u001b[1mLayer (type)                   \u001b[0m\u001b[1m \u001b[0m┃\u001b[1m \u001b[0m\u001b[1mOutput Shape          \u001b[0m\u001b[1m \u001b[0m┃\u001b[1m \u001b[0m\u001b[1m      Param #\u001b[0m\u001b[1m \u001b[0m┃\n",
       "┡━━━━━━━━━━━━━━━━━━━━━━━━━━━━━━━━━╇━━━━━━━━━━━━━━━━━━━━━━━━╇━━━━━━━━━━━━━━━┩\n",
       "│ dense_1 (\u001b[38;5;33mDense\u001b[0m)                 │ (\u001b[38;5;45mNone\u001b[0m, \u001b[38;5;34m64\u001b[0m)             │           \u001b[38;5;34m320\u001b[0m │\n",
       "├─────────────────────────────────┼────────────────────────┼───────────────┤\n",
       "│ output_layer (\u001b[38;5;33mDense\u001b[0m)            │ (\u001b[38;5;45mNone\u001b[0m, \u001b[38;5;34m3\u001b[0m)              │           \u001b[38;5;34m195\u001b[0m │\n",
       "└─────────────────────────────────┴────────────────────────┴───────────────┘\n"
      ]
     },
     "metadata": {},
     "output_type": "display_data"
    },
    {
     "data": {
      "text/html": [
       "<pre style=\"white-space:pre;overflow-x:auto;line-height:normal;font-family:Menlo,'DejaVu Sans Mono',consolas,'Courier New',monospace\"><span style=\"font-weight: bold\"> Total params: </span><span style=\"color: #00af00; text-decoration-color: #00af00\">515</span> (2.01 KB)\n",
       "</pre>\n"
      ],
      "text/plain": [
       "\u001b[1m Total params: \u001b[0m\u001b[38;5;34m515\u001b[0m (2.01 KB)\n"
      ]
     },
     "metadata": {},
     "output_type": "display_data"
    },
    {
     "data": {
      "text/html": [
       "<pre style=\"white-space:pre;overflow-x:auto;line-height:normal;font-family:Menlo,'DejaVu Sans Mono',consolas,'Courier New',monospace\"><span style=\"font-weight: bold\"> Trainable params: </span><span style=\"color: #00af00; text-decoration-color: #00af00\">515</span> (2.01 KB)\n",
       "</pre>\n"
      ],
      "text/plain": [
       "\u001b[1m Trainable params: \u001b[0m\u001b[38;5;34m515\u001b[0m (2.01 KB)\n"
      ]
     },
     "metadata": {},
     "output_type": "display_data"
    },
    {
     "data": {
      "text/html": [
       "<pre style=\"white-space:pre;overflow-x:auto;line-height:normal;font-family:Menlo,'DejaVu Sans Mono',consolas,'Courier New',monospace\"><span style=\"font-weight: bold\"> Non-trainable params: </span><span style=\"color: #00af00; text-decoration-color: #00af00\">0</span> (0.00 B)\n",
       "</pre>\n"
      ],
      "text/plain": [
       "\u001b[1m Non-trainable params: \u001b[0m\u001b[38;5;34m0\u001b[0m (0.00 B)\n"
      ]
     },
     "metadata": {},
     "output_type": "display_data"
    },
    {
     "name": "stdout",
     "output_type": "stream",
     "text": [
      "None\n",
      "Epoch 1/10\n",
      "Train loss: 0.0984 -|- Train acc: 0.9023 -|- Test acc: 0.9351 -|- Time: 9.62s\n",
      "Epoch 2/10\n",
      "Train loss: 0.0670 -|- Train acc: 0.9356 -|- Test acc: 0.9351 -|- Time: 9.09s\n",
      "Epoch 3/10\n",
      "Train loss: 0.4309 -|- Train acc: 0.9367 -|- Test acc: 0.9431 -|- Time: 9.25s\n",
      "Epoch 4/10\n",
      "Train loss: 0.4231 -|- Train acc: 0.9383 -|- Test acc: 0.9441 -|- Time: 9.29s\n",
      "Epoch 5/10\n",
      "Train loss: 0.3981 -|- Train acc: 0.9389 -|- Test acc: 0.9456 -|- Time: 9.93s\n",
      "Epoch 6/10\n",
      "Train loss: 0.3796 -|- Train acc: 0.9391 -|- Test acc: 0.9446 -|- Time: 9.31s\n",
      "Epoch 7/10\n",
      "Train loss: 0.4354 -|- Train acc: 0.9397 -|- Test acc: 0.9491 -|- Time: 9.35s\n",
      "Epoch 8/10\n",
      "Train loss: 0.0491 -|- Train acc: 0.9400 -|- Test acc: 0.9491 -|- Time: 9.61s\n",
      "Epoch 9/10\n",
      "Train loss: 0.0888 -|- Train acc: 0.9402 -|- Test acc: 0.9476 -|- Time: 9.41s\n",
      "Epoch 10/10\n",
      "Train loss: 0.3594 -|- Train acc: 0.9406 -|- Test acc: 0.9525 -|- Time: 9.40s\n"
     ]
    }
   ],
   "source": [
    "optimizer = tf.keras.optimizers.Adam()\n",
    "loss_fn = tf.keras.losses.SparseCategoricalCrossentropy(from_logits=True)\n",
    "\n",
    "model_adv = get_model(input_size, num_classes)\n",
    "model_adv = adversarial_training(model_adv, train_dataset, optimizer, loss_fn, epsilon=epsilon, alpha=alpha, num_iter=num_iter, epochs=epochs)"
   ]
  },
  {
   "cell_type": "code",
   "execution_count": 86,
   "id": "8275f82b-190c-4ab0-ab78-35788231b0e9",
   "metadata": {},
   "outputs": [
    {
     "name": "stdout",
     "output_type": "stream",
     "text": [
      "\u001b[1m63/63\u001b[0m \u001b[32m━━━━━━━━━━━━━━━━━━━━\u001b[0m\u001b[37m\u001b[0m \u001b[1m0s\u001b[0m 458us/step\n",
      "Precision (macro): 0.9520\n",
      "Recall (macro): 0.4954\n",
      "F1-score (macro): 0.5512\n"
     ]
    },
    {
     "data": {
      "image/png": "[encoded data removed]",
      "text/plain": [
       "<Figure size 600x500 with 1 Axes>"
      ]
     },
     "metadata": {},
     "output_type": "display_data"
    }
   ],
   "source": [
    "print_metrics(model_adv, X_test_scaled, y_test, num_classes)"
   ]
  },
  {
   "cell_type": "code",
   "execution_count": 98,
   "id": "cb4a7542-cbb7-4807-8f9e-115cf87f2226",
   "metadata": {},
   "outputs": [
    {
     "name": "stdout",
     "output_type": "stream",
     "text": [
      "\u001b[1m63/63\u001b[0m \u001b[32m━━━━━━━━━━━━━━━━━━━━\u001b[0m\u001b[37m\u001b[0m \u001b[1m0s\u001b[0m 382us/step\n",
      "Accuracy on adversarial examples: 0.9351\n"
     ]
    }
   ],
   "source": [
    "# Test the PGD attack\n",
    "x_test_sample_ADV = X_test_scaled\n",
    "y_test_sample_ADV = y_test\n",
    "\n",
    "# Generate adversarial examples\n",
    "x_test_adv_ADV = pgd_attack(model_adv, x_test_sample_ADV, y_test_sample_ADV, epsilon=epsilon, alpha=alpha, num_iter=num_iter)\n",
    "\n",
    "# Evaluate the model on the adversarial examples\n",
    "y_pred_adv_ADV = np.argmax(model_adv.predict(x_test_adv_ADV), axis=1)\n",
    "accuracy_adv_ADV = np.mean(y_pred_adv_ADV == y_test_sample_ADV)\n",
    "\n",
    "print(f'Accuracy on adversarial examples: {accuracy_adv_ADV:.4f}')\n",
    "# print_metrics(model_adv, x_test_adv_ADV, y_test_sample_ADV, num_classes)"
   ]
  },
  {
   "cell_type": "code",
   "execution_count": 100,
   "id": "9d52e34c-9075-4d51-9f1a-c03ad8c66cf1",
   "metadata": {},
   "outputs": [],
   "source": [
    "# Save the trained model, if you like\n",
    "model_folder = 'nn-models'\n",
    "os.makedirs(model_folder, exist_ok=True)\n",
    "timestamp_str = datetime.datetime.now().strftime(\"%Y%m%d_%H%M%S\")\n",
    "model_filename = f'nn_model_adv_{timestamp_str}.keras'\n",
    "model_path = os.path.join(model_folder, model_filename)\n",
    "# scaler_filename = f'scaler_{timestamp_str}.pkl'\n",
    "# scaler_path = os.path.join(model_folder,scaler_filename)\n",
    "# joblib.dump(scaler,scaler_path)\n",
    "# model_base.save(model_path)\n",
    "# print(f\"model saved to {model_path}\")\n",
    "\n",
    "\n"
   ]
  },
  {
   "cell_type": "code",
   "execution_count": null,
   "id": "ae815dab-5e56-4590-8b18-0138e590f968",
   "metadata": {},
   "outputs": [],
   "source": []
  }
 ],
 "metadata": {
  "kernelspec": {
   "display_name": "Python 3 (ipykernel)",
   "language": "python",
   "name": "python3"
  },
  "language_info": {
   "codemirror_mode": {
    "name": "ipython",
    "version": 3
   },
   "file_extension": ".py",
   "mimetype": "text/x-python",
   "name": "python",
   "nbconvert_exporter": "python",
   "pygments_lexer": "ipython3",
   "version": "3.13.7"
  }
 },
 "nbformat": 4,
 "nbformat_minor": 5
}

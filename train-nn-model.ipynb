{
 "cells": [
  {
   "cell_type": "code",
   "execution_count": 35,
   "id": "10008f13-46ec-4843-a450-a7cbda56c5db",
   "metadata": {},
   "outputs": [],
   "source": [
    "import pandas as pd\n",
    "import numpy as np\n",
    "import os\n",
    "from sklearn.model_selection import train_test_split\n",
    "from sklearn.preprocessing import StandardScaler\n",
    "import tensorflow as tf\n",
    "from tensorflow.keras.models import Sequential\n",
    "from tensorflow.keras.layers import Dense, Input\n",
    "from sklearn.metrics import precision_score, recall_score, f1_score, roc_curve, roc_auc_score\n",
    "from sklearn.preprocessing import label_binarize\n",
    "import matplotlib.pyplot as plt"
   ]
  },
  {
   "cell_type": "code",
   "execution_count": 7,
   "id": "c4ba9890-57ae-4966-b178-68c41207a8f0",
   "metadata": {},
   "outputs": [
    {
     "name": "stdout",
     "output_type": "stream",
     "text": [
      "Load dateset successful\n",
      "\n",
      "Showing first 5 lines:\n",
      "   run_id  time_step    d_front     d_back   v_front    v_back  ego_a\n",
      "0       0          0  50.178533  25.089267  0.000000  0.000000    0.0\n",
      "1       0          1  50.165721  25.102079 -0.256249  0.256249    1.5\n",
      "2       0          2  50.137552  25.130247 -0.307118  0.307118    1.5\n",
      "3       0          3  50.089358  25.178441 -0.656761  0.656761    1.5\n",
      "4       0          4  50.027604  25.240195 -0.578324  0.578324    1.5\n"
     ]
    }
   ],
   "source": [
    "file_path = 'car-manual-dataset/simulation-dataset-sample.csv'\n",
    "df = pd.read_csv(file_path)\n",
    "\n",
    "print(\"Load dateset successful\")\n",
    "#df.info()\n",
    "print(\"\\nShowing first 5 lines:\")\n",
    "print(df.head())"
   ]
  },
  {
   "cell_type": "code",
   "execution_count": 13,
   "id": "dd1cf35f-dd30-4b4f-a7e5-03beb5de1446",
   "metadata": {},
   "outputs": [
    {
     "name": "stdout",
     "output_type": "stream",
     "text": [
      "action\n",
      "0    2275\n",
      "2    2230\n",
      "1     488\n",
      "Name: count, dtype: int64\n",
      "TrainSet scale: 3994\n",
      "TestSet scale: 999\n"
     ]
    }
   ],
   "source": [
    "def classify_acceleration(a, threshold=0.05):\n",
    "    if a > threshold:\n",
    "        return 2  # speed up\n",
    "    elif a < -threshold:\n",
    "        return 0  # slow down\n",
    "    else:\n",
    "        return 1  # stay\n",
    "\n",
    "df['action'] = df['ego_a'].apply(classify_acceleration)\n",
    "\n",
    "\n",
    "print(df['action'].value_counts())\n",
    "\n",
    "FEATURE_COLUMNS = ['d_front', 'd_back', 'v_front', 'v_back']\n",
    "LABEL_COLUMN = 'action'  \n",
    "\n",
    "X = df[FEATURE_COLUMNS].values\n",
    "y = df[LABEL_COLUMN].values\n",
    "\n",
    "X_train, X_test, y_train, y_test = train_test_split(X, y, test_size=0.2, random_state=24,stratify=y)\n",
    "\n",
    "scaler = StandardScaler()\n",
    "X_train_scaled = scaler.fit_transform(X_train)\n",
    "X_test_scaled = scaler.transform(X_test)\n",
    "\n",
    "print(f\"TrainSet scale: {len(X_train_scaled)}\")\n",
    "print(f\"TestSet scale: {len(X_test_scaled)}\")"
   ]
  },
  {
   "cell_type": "code",
   "execution_count": 14,
   "id": "6ef9a2c6-58d2-4110-bc81-4fb4d22c075c",
   "metadata": {},
   "outputs": [],
   "source": [
    "def get_model(input_size, num_classes):\n",
    "\n",
    "    initializer = tf.keras.initializers.GlorotUniform(seed=42)\n",
    "    \n",
    "    model = Sequential([\n",
    "            Input(shape=(input_size,), name='input_features'),\n",
    "            Dense(32, activation='relu', kernel_initializer=initializer, name='dense_1'),\n",
    "            Dense(num_classes, activation='softmax', kernel_initializer=initializer, name='output_layer')\n",
    "        ])\n",
    "    \n",
    "    return model\n",
    "\n",
    "\n"
   ]
  },
  {
   "cell_type": "code",
   "execution_count": 24,
   "id": "fc352021-b3e4-42dd-ba8a-7ae1b418deaa",
   "metadata": {},
   "outputs": [
    {
     "name": "stdout",
     "output_type": "stream",
     "text": [
      "Epoch 1/3\n",
      "\u001b[1m125/125\u001b[0m \u001b[32m━━━━━━━━━━━━━━━━━━━━\u001b[0m\u001b[37m\u001b[0m \u001b[1m0s\u001b[0m 908us/step - loss: 0.8760 - sparse_categorical_accuracy: 0.6427 - val_loss: 0.5777 - val_sparse_categorical_accuracy: 0.8909\n",
      "Epoch 2/3\n",
      "\u001b[1m125/125\u001b[0m \u001b[32m━━━━━━━━━━━━━━━━━━━━\u001b[0m\u001b[37m\u001b[0m \u001b[1m0s\u001b[0m 423us/step - loss: 0.4357 - sparse_categorical_accuracy: 0.8998 - val_loss: 0.3439 - val_sparse_categorical_accuracy: 0.9009\n",
      "Epoch 3/3\n",
      "\u001b[1m125/125\u001b[0m \u001b[32m━━━━━━━━━━━━━━━━━━━━\u001b[0m\u001b[37m\u001b[0m \u001b[1m0s\u001b[0m 413us/step - loss: 0.2842 - sparse_categorical_accuracy: 0.9026 - val_loss: 0.2565 - val_sparse_categorical_accuracy: 0.9029\n"
     ]
    },
    {
     "data": {
      "text/plain": [
       "<keras.src.callbacks.history.History at 0x174fbf490>"
      ]
     },
     "execution_count": 24,
     "metadata": {},
     "output_type": "execute_result"
    }
   ],
   "source": [
    "num_classes = len(np.unique(y_train))\n",
    "input_size = X_train_scaled.shape[1]\n",
    "train_dataset = X_train_scaled\n",
    "epochs = 3\n",
    "\n",
    "\n",
    "optimizer = tf.keras.optimizers.Adam()\n",
    "loss_fn = tf.keras.losses.SparseCategoricalCrossentropy(from_logits=False)\n",
    "accuracy_fn = tf.keras.metrics.SparseCategoricalAccuracy()\n",
    "\n",
    "model_base = get_model(input_size, num_classes)\n",
    "model_base.compile(optimizer=optimizer, loss=loss_fn, metrics=[accuracy_fn])\n",
    "model_base.fit(\n",
    "    train_dataset,\n",
    "    y_train, \n",
    "    epochs=epochs, \n",
    "    batch_size = 32,\n",
    "    validation_data=(X_test_scaled, y_test))\n"
   ]
  },
  {
   "cell_type": "code",
   "execution_count": 29,
   "id": "46d26299-7700-4c05-b324-6095d1117af1",
   "metadata": {},
   "outputs": [],
   "source": [
    "def print_metrics(model, x, y, c):\n",
    "    # Get predicted probabilities for all classes\n",
    "    y_pred_prob = model.predict(x)\n",
    "\n",
    "    # Get predicted class labels (highest probability class)\n",
    "    y_pred_class = np.argmax(y_pred_prob, axis=1)\n",
    "\n",
    "    # Calculate precision, recall, and F1-score (using macro average)\n",
    "    precision = precision_score(y, y_pred_class, average='macro')\n",
    "    recall = recall_score(y, y_pred_class, average='macro')\n",
    "    f1 = f1_score(y, y_pred_class, average='macro')\n",
    "\n",
    "    # Display the macro/micro/weighted average metrics\n",
    "    print(f'Precision (macro): {precision:.4f}')\n",
    "    print(f'Recall (macro): {recall:.4f}')\n",
    "    print(f'F1-score (macro): {f1:.4f}')\n",
    "\n",
    "    # Binarize the output (needed for multiclass ROC)\n",
    "    # This turns the class labels into a one-vs-rest binary format\n",
    "    y_test_bin = label_binarize(y, classes=np.arange(c))\n",
    "\n",
    "    # Compute ROC curve and AUC for each class\n",
    "    fpr = dict()\n",
    "    tpr = dict()\n",
    "    roc_auc = dict()\n",
    "\n",
    "    for i in range(c):\n",
    "        fpr[i], tpr[i], _ = roc_curve(y_test_bin[:, i], y_pred_prob[:, i])\n",
    "        roc_auc[i] = roc_auc_score(y_test_bin[:, i], y_pred_prob[:, i])\n",
    "    # Plot the ROC curve for each class\n",
    "    plt.figure(figsize=(6, 5))\n",
    "    for i in range(c):\n",
    "        plt.plot(fpr[i], tpr[i], label=f'Class {i} (AUC = {roc_auc[i]:.2f})')\n",
    "\n",
    "    plt.plot([0, 1], [0, 1], 'k--')  # Dashed diagonal line\n",
    "    plt.xlim([0.0, 1.0])\n",
    "    plt.ylim([0.0, 1.0])\n",
    "    plt.xlabel('False Positive Rate')\n",
    "    plt.ylabel('True Positive Rate')\n",
    "    plt.title('Receiver Operating Characteristic (ROC) for Each Class')\n",
    "    plt.legend(loc='lower right')\n",
    "    plt.show()"
   ]
  },
  {
   "cell_type": "code",
   "execution_count": 36,
   "id": "1ae10f91-5b2c-457a-87d7-81663b87271e",
   "metadata": {},
   "outputs": [
    {
     "name": "stdout",
     "output_type": "stream",
     "text": [
      "\u001b[1m32/32\u001b[0m \u001b[32m━━━━━━━━━━━━━━━━━━━━\u001b[0m\u001b[37m\u001b[0m \u001b[1m0s\u001b[0m 507us/step\n",
      "Precision (macro): 0.9352\n",
      "Recall (macro): 0.6701\n",
      "F1-score (macro): 0.6393\n"
     ]
    },
    {
     "data": {
      "image/png": "[encoded data removed]",
      "text/plain": [
       "<Figure size 600x500 with 1 Axes>"
      ]
     },
     "metadata": {},
     "output_type": "display_data"
    }
   ],
   "source": [
    "print_metrics(model_base, X_test_scaled, y_test, num_classes)"
   ]
  },
  {
   "cell_type": "code",
   "execution_count": null,
   "id": "2a57ff38-42d9-47ea-9250-1c18424dbd1c",
   "metadata": {},
   "outputs": [],
   "source": []
  }
 ],
 "metadata": {
  "kernelspec": {
   "display_name": "Python 3 (ipykernel)",
   "language": "python",
   "name": "python3"
  },
  "language_info": {
   "codemirror_mode": {
    "name": "ipython",
    "version": 3
   },
   "file_extension": ".py",
   "mimetype": "text/x-python",
   "name": "python",
   "nbconvert_exporter": "python",
   "pygments_lexer": "ipython3",
   "version": "3.13.7"
  }
 },
 "nbformat": 4,
 "nbformat_minor": 5
}
